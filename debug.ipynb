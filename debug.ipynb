{
 "cells": [
  {
   "cell_type": "code",
   "execution_count": 1,
   "metadata": {},
   "outputs": [],
   "source": [
    "import numpy as np"
   ]
  },
  {
   "cell_type": "code",
   "execution_count": 2,
   "metadata": {},
   "outputs": [
    {
     "name": "stdout",
     "output_type": "stream",
     "text": [
      "Displacement vector: [1. 0. 0.]\n",
      "Reference 1 displacement: [0. 1. 0.]\n",
      "Reference 2 displacement: [0. 0. 1.]\n",
      "Basis 1 vector: [0. 1. 0.]\n",
      "Orthogonalized vector: [0. 0. 1.]\n",
      "Basis 2 vector: [0. 0. 1.]\n",
      "Normal vector: [1. 0. 0.]\n",
      "Radius: 1.0\n",
      "Polar angle: 0.0\n",
      "Projection vector: [0. 0. 0.]\n",
      "Initial azimuthal angle: nan\n",
      "Final azimuthal angle: nan\n",
      "Radius: 1.0\n",
      "Polar angle: 0.0\n",
      "Azimuthal angle: nan\n"
     ]
    },
    {
     "name": "stderr",
     "output_type": "stream",
     "text": [
      "/Users/pablo/software/molstructok/src/mol_struc_tok.py:48: RuntimeWarning: invalid value encountered in scalar divide\n",
      "  azimuthal = np.arccos(np.dot(proj, basis1) / np.linalg.norm(proj))\n"
     ]
    }
   ],
   "source": [
    "from src.mol_struc_tok import calculate_spherical_coords\n",
    "\n",
    "point = np.array([1.0, 0.0, 0.0])\n",
    "origin = np.array([0.0, 0.0, 0.0])\n",
    "ref1 = np.array([0.0, 1.0, 0.0])\n",
    "ref2 = np.array([0.0, 0.0, 1.0])\n",
    "\n",
    "radius, polar, azimuthal = calculate_spherical_coords(point, origin, ref1, ref2)\n",
    "print(f\"Radius: {radius}\")\n",
    "print(f\"Polar angle: {polar}\")\n",
    "print(f\"Azimuthal angle: {azimuthal}\")\n"
   ]
  },
  {
   "cell_type": "code",
   "execution_count": 37,
   "metadata": {},
   "outputs": [
    {
     "name": "stderr",
     "output_type": "stream",
     "text": [
      "[16:57:33] SMILES Parse Error: syntax error while parsing: OHH\n",
      "[16:57:33] SMILES Parse Error: Failed parsing SMILES 'OHH' for input: 'OHH'\n"
     ]
    }
   ],
   "source": [
    "import rdkit.Chem as Chem\n",
    "from rdkit.Chem import rdDistGeom\n"
   ]
  },
  {
   "cell_type": "code",
   "execution_count": 24,
   "metadata": {},
   "outputs": [],
   "source": [
    "atom_i = mol.GetAtomWithIdx(0)"
   ]
  },
  {
   "cell_type": "code",
   "execution_count": 25,
   "metadata": {},
   "outputs": [
    {
     "name": "stdout",
     "output_type": "stream",
     "text": [
      "(<rdkit.Chem.rdchem.Atom object at 0x1716d3920>, <rdkit.Chem.rdchem.Atom object at 0x1716d3ca0>)\n",
      "(<rdkit.Chem.rdchem.Atom object at 0x1716d3920>, <rdkit.Chem.rdchem.Atom object at 0x1716d3ca0>)\n"
     ]
    }
   ],
   "source": [
    "for nbr in atom_i.GetNeighbors():\n",
    "    print(atom_i.GetNeighbors())"
   ]
  },
  {
   "cell_type": "code",
   "execution_count": 26,
   "metadata": {},
   "outputs": [
    {
     "name": "stdout",
     "output_type": "stream",
     "text": [
      "1 H\n",
      "2 H\n"
     ]
    }
   ],
   "source": [
    "for nbr in atom_i.GetNeighbors():\n",
    "    print(nbr.GetIdx(), nbr.GetSymbol())"
   ]
  },
  {
   "cell_type": "code",
   "execution_count": 27,
   "metadata": {},
   "outputs": [],
   "source": [
    "def water_xyz():\n",
    "    return \"\"\"3\n",
    "Water molecule\n",
    "O          0.00000        0.00000        0.11779\n",
    "H          0.00000        0.75545       -0.47116\n",
    "H          0.00000       -0.75545       -0.47116\"\"\""
   ]
  },
  {
   "cell_type": "code",
   "execution_count": 36,
   "metadata": {},
   "outputs": [
    {
     "name": "stderr",
     "output_type": "stream",
     "text": [
      "[16:53:18] \n",
      "\n",
      "****\n",
      "Pre-condition Violation\n",
      "getNumImplicitHs() called without preceding call to calcImplicitValence()\n",
      "Violation occurred on line 289 in file /Users/runner/work/rdkit-pypi/rdkit-pypi/build/temp.macosx-11.0-arm64-cpython-311/rdkit/Code/GraphMol/Atom.cpp\n",
      "Failed Expression: d_implicitValence > -1\n",
      "****\n",
      "\n"
     ]
    },
    {
     "ename": "RuntimeError",
     "evalue": "Pre-condition Violation\n\tgetNumImplicitHs() called without preceding call to calcImplicitValence()\n\tViolation occurred on line 289 in file Code/GraphMol/Atom.cpp\n\tFailed Expression: d_implicitValence > -1\n\tRDKIT: 2024.03.6\n\tBOOST: 1_85\n",
     "output_type": "error",
     "traceback": [
      "\u001b[0;31m---------------------------------------------------------------------------\u001b[0m",
      "\u001b[0;31mRuntimeError\u001b[0m                              Traceback (most recent call last)",
      "Cell \u001b[0;32mIn[36], line 2\u001b[0m\n\u001b[1;32m      1\u001b[0m mol \u001b[38;5;241m=\u001b[39m Chem\u001b[38;5;241m.\u001b[39mMolFromXYZBlock(water_xyz())\n\u001b[0;32m----> 2\u001b[0m mol \u001b[38;5;241m=\u001b[39m \u001b[43mrdDistGeom\u001b[49m\u001b[38;5;241;43m.\u001b[39;49m\u001b[43mEmbedMolecule\u001b[49m\u001b[43m(\u001b[49m\u001b[43mmol\u001b[49m\u001b[43m,\u001b[49m\u001b[43m \u001b[49m\u001b[43mrandomSeed\u001b[49m\u001b[38;5;241;43m=\u001b[39;49m\u001b[38;5;241;43m0\u001b[39;49m\u001b[43m)\u001b[49m\n\u001b[1;32m      3\u001b[0m \u001b[38;5;28mprint\u001b[39m(mol)\n",
      "\u001b[0;31mRuntimeError\u001b[0m: Pre-condition Violation\n\tgetNumImplicitHs() called without preceding call to calcImplicitValence()\n\tViolation occurred on line 289 in file Code/GraphMol/Atom.cpp\n\tFailed Expression: d_implicitValence > -1\n\tRDKIT: 2024.03.6\n\tBOOST: 1_85\n"
     ]
    }
   ],
   "source": [
    "mol = Chem.MolFromXYZBlock(water_xyz())"
   ]
  },
  {
   "cell_type": "code",
   "execution_count": 31,
   "metadata": {},
   "outputs": [
    {
     "name": "stdout",
     "output_type": "stream",
     "text": [
      "0 O\n",
      "1 H\n",
      "2 H\n"
     ]
    }
   ],
   "source": [
    "atom_1 = mol.GetAtomWithIdx(0)\n",
    "atom_2 = mol.GetAtomWithIdx(1)\n",
    "atom_3 = mol.GetAtomWithIdx(2)\n",
    "\n",
    "print(atom_1.GetIdx(), atom_1.GetSymbol())\n",
    "print(atom_2.GetIdx(), atom_2.GetSymbol())\n",
    "print(atom_3.GetIdx(), atom_3.GetSymbol())"
   ]
  },
  {
   "cell_type": "code",
   "execution_count": null,
   "metadata": {},
   "outputs": [],
   "source": []
  }
 ],
 "metadata": {
  "kernelspec": {
   "display_name": ".venv",
   "language": "python",
   "name": "python3"
  },
  "language_info": {
   "codemirror_mode": {
    "name": "ipython",
    "version": 3
   },
   "file_extension": ".py",
   "mimetype": "text/x-python",
   "name": "python",
   "nbconvert_exporter": "python",
   "pygments_lexer": "ipython3",
   "version": "3.11.6"
  }
 },
 "nbformat": 4,
 "nbformat_minor": 2
}
